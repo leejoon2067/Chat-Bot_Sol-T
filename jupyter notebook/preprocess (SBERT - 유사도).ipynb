{
 "cells": [
  {
   "cell_type": "code",
   "execution_count": 9,
   "id": "1af53dbb",
   "metadata": {},
   "outputs": [],
   "source": [
    "import pandas as pd"
   ]
  },
  {
   "cell_type": "markdown",
   "id": "00116e32",
   "metadata": {},
   "source": [
    "## 1. 데이터셋 확인하기"
   ]
  },
  {
   "cell_type": "code",
   "execution_count": 24,
   "id": "d4af1449",
   "metadata": {},
   "outputs": [],
   "source": [
    "df = pd.read_csv(\"C:/Users/leejo/OneDrive/바탕 화면/2024-1/KHUDA_심화트랙/자연어처리 실습(개발)/데이터셋/drive-download-20240503T034751Z-001/Empathy_기쁨_연인_1(1).tsv\", sep = \"\\t\", encoding = 'utf-8',)"
   ]
  },
  {
   "cell_type": "code",
   "execution_count": 25,
   "id": "6d65bdd9",
   "metadata": {},
   "outputs": [
    {
     "data": {
      "text/html": [
       "<div>\n",
       "<style scoped>\n",
       "    .dataframe tbody tr th:only-of-type {\n",
       "        vertical-align: middle;\n",
       "    }\n",
       "\n",
       "    .dataframe tbody tr th {\n",
       "        vertical-align: top;\n",
       "    }\n",
       "\n",
       "    .dataframe thead th {\n",
       "        text-align: right;\n",
       "    }\n",
       "</style>\n",
       "<table border=\"1\" class=\"dataframe\">\n",
       "  <thead>\n",
       "    <tr style=\"text-align: right;\">\n",
       "      <th></th>\n",
       "      <th>id</th>\n",
       "      <th>utterance_id</th>\n",
       "      <th>utterance_type</th>\n",
       "      <th>utterance_text</th>\n",
       "      <th>terminate</th>\n",
       "      <th>regDate</th>\n",
       "      <th>updDate</th>\n",
       "    </tr>\n",
       "  </thead>\n",
       "  <tbody>\n",
       "    <tr>\n",
       "      <th>0</th>\n",
       "      <td>BE22026986</td>\n",
       "      <td>1</td>\n",
       "      <td>0</td>\n",
       "      <td>자기야, 오랜만에 본가에 오니까 정말 너무 안정감을 느껴. 역시 자취도 좋지만 집밥...</td>\n",
       "      <td>N</td>\n",
       "      <td>2022-10-11 19:06:06</td>\n",
       "      <td>2022-11-08 15:15:25</td>\n",
       "    </tr>\n",
       "    <tr>\n",
       "      <th>1</th>\n",
       "      <td>BE22026986</td>\n",
       "      <td>2</td>\n",
       "      <td>1</td>\n",
       "      <td>자기야, 먼 길 떠나 본가로 가서 행복한 시간 보내고 있다니 정말 다행이다. 그래서...</td>\n",
       "      <td>N</td>\n",
       "      <td>2022-10-11 19:06:06</td>\n",
       "      <td>2022-11-08 15:15:25</td>\n",
       "    </tr>\n",
       "    <tr>\n",
       "      <th>2</th>\n",
       "      <td>BE22026986</td>\n",
       "      <td>3</td>\n",
       "      <td>0</td>\n",
       "      <td>오늘 엄마가 김치찌개를 만들어주셨어. 자기도 알다시피 내가 제일 좋아하는 음식이 김...</td>\n",
       "      <td>N</td>\n",
       "      <td>2022-10-11 19:06:06</td>\n",
       "      <td>2022-10-11 19:06:06</td>\n",
       "    </tr>\n",
       "    <tr>\n",
       "      <th>3</th>\n",
       "      <td>BE22026986</td>\n",
       "      <td>4</td>\n",
       "      <td>1</td>\n",
       "      <td>자기의 어머니 음식 솜씨가 대단하다고 하셨잖아. 오랫동안 먹지 못했던 어머니의 집밥...</td>\n",
       "      <td>N</td>\n",
       "      <td>2022-10-11 19:06:06</td>\n",
       "      <td>2022-11-08 15:15:25</td>\n",
       "    </tr>\n",
       "    <tr>\n",
       "      <th>4</th>\n",
       "      <td>BE22026986</td>\n",
       "      <td>5</td>\n",
       "      <td>0</td>\n",
       "      <td>자취할때 엄마가 너무 보고싶었는데, 오랜만에 보니까 너무 기쁘더라고. 역시 가족이라...</td>\n",
       "      <td>N</td>\n",
       "      <td>2022-10-11 19:06:06</td>\n",
       "      <td>2022-10-11 19:06:06</td>\n",
       "    </tr>\n",
       "    <tr>\n",
       "      <th>5</th>\n",
       "      <td>BE22026986</td>\n",
       "      <td>6</td>\n",
       "      <td>1</td>\n",
       "      <td>그 누구보다도 자기를 사랑해주시는 분들이 부모님이시잖아. 자기가 본가에 온다고 해서...</td>\n",
       "      <td>N</td>\n",
       "      <td>2022-10-11 19:06:06</td>\n",
       "      <td>2022-11-08 15:15:25</td>\n",
       "    </tr>\n",
       "    <tr>\n",
       "      <th>6</th>\n",
       "      <td>BE22026986</td>\n",
       "      <td>7</td>\n",
       "      <td>0</td>\n",
       "      <td>오늘 엄마의 김치찌개를 먹은 후에 부모님과 같이 영화도 보고 왔어. 부모님이랑 정말...</td>\n",
       "      <td>N</td>\n",
       "      <td>2022-10-11 19:06:06</td>\n",
       "      <td>2022-10-11 19:06:06</td>\n",
       "    </tr>\n",
       "    <tr>\n",
       "      <th>7</th>\n",
       "      <td>BE22026986</td>\n",
       "      <td>8</td>\n",
       "      <td>1</td>\n",
       "      <td>나도 부모님이랑 영화보는 것 진짜 좋아하는데. 그렇게 가족들과 시간을 보내면서 절로...</td>\n",
       "      <td>N</td>\n",
       "      <td>2022-10-11 19:06:06</td>\n",
       "      <td>2022-11-08 15:15:25</td>\n",
       "    </tr>\n",
       "    <tr>\n",
       "      <th>8</th>\n",
       "      <td>BE22026986</td>\n",
       "      <td>9</td>\n",
       "      <td>0</td>\n",
       "      <td>자기 말이 맞아. 일하면서 받은 스트레스가 다 날아가버릴 정도로 너무 즐겁고 행복해.</td>\n",
       "      <td>N</td>\n",
       "      <td>2022-10-11 19:06:06</td>\n",
       "      <td>2022-10-11 19:06:06</td>\n",
       "    </tr>\n",
       "    <tr>\n",
       "      <th>9</th>\n",
       "      <td>BE22026986</td>\n",
       "      <td>10</td>\n",
       "      <td>1</td>\n",
       "      <td>자기가 본가에 내려가 있는 그 며칠 동안 행복한 시간들 많이 만들고 왔으면 좋겠다.</td>\n",
       "      <td>N</td>\n",
       "      <td>2022-10-11 19:06:06</td>\n",
       "      <td>2022-11-08 15:15:25</td>\n",
       "    </tr>\n",
       "    <tr>\n",
       "      <th>10</th>\n",
       "      <td>BE22026986</td>\n",
       "      <td>11</td>\n",
       "      <td>0</td>\n",
       "      <td>그럴 수 있을 것 같아. 자기랑 이야기 하다 보니 안 그래도 좋았던 기분이 더 좋네.</td>\n",
       "      <td>N</td>\n",
       "      <td>2022-10-11 19:06:06</td>\n",
       "      <td>2022-11-08 15:15:25</td>\n",
       "    </tr>\n",
       "    <tr>\n",
       "      <th>11</th>\n",
       "      <td>BE22026986</td>\n",
       "      <td>12</td>\n",
       "      <td>1</td>\n",
       "      <td>난 자기가 좋으면 더더욱 좋아. 자기의 행복이 곧 내 행복이니까. 거기서 만들어 온...</td>\n",
       "      <td>N</td>\n",
       "      <td>2022-10-11 19:06:06</td>\n",
       "      <td>2022-11-08 15:15:25</td>\n",
       "    </tr>\n",
       "    <tr>\n",
       "      <th>12</th>\n",
       "      <td>BE22026986</td>\n",
       "      <td>13</td>\n",
       "      <td>0</td>\n",
       "      <td>이제 본가에서의 첫번째 밤이 지나가면 내일은 또 어떤 일이 생길까 궁금해. 소소한 ...</td>\n",
       "      <td>N</td>\n",
       "      <td>2022-10-11 19:06:06</td>\n",
       "      <td>2022-10-11 19:06:06</td>\n",
       "    </tr>\n",
       "    <tr>\n",
       "      <th>13</th>\n",
       "      <td>BE22026986</td>\n",
       "      <td>14</td>\n",
       "      <td>1</td>\n",
       "      <td>돌아올 때 따뜻한 엄마의 사랑을 가득 안고 돌아오길 바라. 남은 시간 행복하게 보내고.</td>\n",
       "      <td>N</td>\n",
       "      <td>2022-10-11 19:06:06</td>\n",
       "      <td>2022-11-08 15:15:25</td>\n",
       "    </tr>\n",
       "    <tr>\n",
       "      <th>14</th>\n",
       "      <td>BE22026986</td>\n",
       "      <td>15</td>\n",
       "      <td>0</td>\n",
       "      <td>너무 고마워, 어서 가서 자기한테도 자랑해야겠어. 잘 자!</td>\n",
       "      <td>Y</td>\n",
       "      <td>2022-10-11 19:06:06</td>\n",
       "      <td>2022-10-11 19:06:06</td>\n",
       "    </tr>\n",
       "  </tbody>\n",
       "</table>\n",
       "</div>"
      ],
      "text/plain": [
       "            id  utterance_id  utterance_type  \\\n",
       "0   BE22026986             1               0   \n",
       "1   BE22026986             2               1   \n",
       "2   BE22026986             3               0   \n",
       "3   BE22026986             4               1   \n",
       "4   BE22026986             5               0   \n",
       "5   BE22026986             6               1   \n",
       "6   BE22026986             7               0   \n",
       "7   BE22026986             8               1   \n",
       "8   BE22026986             9               0   \n",
       "9   BE22026986            10               1   \n",
       "10  BE22026986            11               0   \n",
       "11  BE22026986            12               1   \n",
       "12  BE22026986            13               0   \n",
       "13  BE22026986            14               1   \n",
       "14  BE22026986            15               0   \n",
       "\n",
       "                                       utterance_text terminate  \\\n",
       "0   자기야, 오랜만에 본가에 오니까 정말 너무 안정감을 느껴. 역시 자취도 좋지만 집밥...         N   \n",
       "1   자기야, 먼 길 떠나 본가로 가서 행복한 시간 보내고 있다니 정말 다행이다. 그래서...         N   \n",
       "2   오늘 엄마가 김치찌개를 만들어주셨어. 자기도 알다시피 내가 제일 좋아하는 음식이 김...         N   \n",
       "3   자기의 어머니 음식 솜씨가 대단하다고 하셨잖아. 오랫동안 먹지 못했던 어머니의 집밥...         N   \n",
       "4   자취할때 엄마가 너무 보고싶었는데, 오랜만에 보니까 너무 기쁘더라고. 역시 가족이라...         N   \n",
       "5   그 누구보다도 자기를 사랑해주시는 분들이 부모님이시잖아. 자기가 본가에 온다고 해서...         N   \n",
       "6   오늘 엄마의 김치찌개를 먹은 후에 부모님과 같이 영화도 보고 왔어. 부모님이랑 정말...         N   \n",
       "7   나도 부모님이랑 영화보는 것 진짜 좋아하는데. 그렇게 가족들과 시간을 보내면서 절로...         N   \n",
       "8     자기 말이 맞아. 일하면서 받은 스트레스가 다 날아가버릴 정도로 너무 즐겁고 행복해.         N   \n",
       "9      자기가 본가에 내려가 있는 그 며칠 동안 행복한 시간들 많이 만들고 왔으면 좋겠다.         N   \n",
       "10    그럴 수 있을 것 같아. 자기랑 이야기 하다 보니 안 그래도 좋았던 기분이 더 좋네.         N   \n",
       "11  난 자기가 좋으면 더더욱 좋아. 자기의 행복이 곧 내 행복이니까. 거기서 만들어 온...         N   \n",
       "12  이제 본가에서의 첫번째 밤이 지나가면 내일은 또 어떤 일이 생길까 궁금해. 소소한 ...         N   \n",
       "13   돌아올 때 따뜻한 엄마의 사랑을 가득 안고 돌아오길 바라. 남은 시간 행복하게 보내고.         N   \n",
       "14                   너무 고마워, 어서 가서 자기한테도 자랑해야겠어. 잘 자!         Y   \n",
       "\n",
       "                regDate              updDate  \n",
       "0   2022-10-11 19:06:06  2022-11-08 15:15:25  \n",
       "1   2022-10-11 19:06:06  2022-11-08 15:15:25  \n",
       "2   2022-10-11 19:06:06  2022-10-11 19:06:06  \n",
       "3   2022-10-11 19:06:06  2022-11-08 15:15:25  \n",
       "4   2022-10-11 19:06:06  2022-10-11 19:06:06  \n",
       "5   2022-10-11 19:06:06  2022-11-08 15:15:25  \n",
       "6   2022-10-11 19:06:06  2022-10-11 19:06:06  \n",
       "7   2022-10-11 19:06:06  2022-11-08 15:15:25  \n",
       "8   2022-10-11 19:06:06  2022-10-11 19:06:06  \n",
       "9   2022-10-11 19:06:06  2022-11-08 15:15:25  \n",
       "10  2022-10-11 19:06:06  2022-11-08 15:15:25  \n",
       "11  2022-10-11 19:06:06  2022-11-08 15:15:25  \n",
       "12  2022-10-11 19:06:06  2022-10-11 19:06:06  \n",
       "13  2022-10-11 19:06:06  2022-11-08 15:15:25  \n",
       "14  2022-10-11 19:06:06  2022-10-11 19:06:06  "
      ]
     },
     "execution_count": 25,
     "metadata": {},
     "output_type": "execute_result"
    }
   ],
   "source": [
    "df"
   ]
  },
  {
   "cell_type": "markdown",
   "id": "72474458",
   "metadata": {},
   "source": [
    "## 2. 여러 개의 tsv 파일 하나로 병합하기"
   ]
  },
  {
   "cell_type": "markdown",
   "id": "d62d4b2b",
   "metadata": {},
   "source": [
    "### 1) 기쁨 데이터셋 병합"
   ]
  },
  {
   "cell_type": "code",
   "execution_count": 32,
   "id": "f6cbdc08",
   "metadata": {},
   "outputs": [],
   "source": [
    "import glob "
   ]
  },
  {
   "cell_type": "code",
   "execution_count": 26,
   "id": "820e730f",
   "metadata": {},
   "outputs": [],
   "source": [
    "file_paths = glob.glob(\"C:/Users/leejo/OneDrive/바탕 화면/2024-1/KHUDA_심화트랙/자연어처리 실습(개발)/데이터셋/drive-download-20240503T034751Z-001/*.tsv\")\n",
    "\n",
    "dfs = []\n",
    "for file_path in file_paths:\n",
    "    df = pd.read_csv(file_path, sep = '\\t', encoding = 'utf-8')\n",
    "    dfs.append(df)\n",
    "\n",
    "merged_df = pd.concat(dfs, ignore_index = True)\n",
    "merged_df.to_csv('merged_data.tsv', sep = '\\t', index = False)"
   ]
  },
  {
   "cell_type": "code",
   "execution_count": 27,
   "id": "059fc51b",
   "metadata": {},
   "outputs": [
    {
     "data": {
      "text/plain": [
       "2604"
      ]
     },
     "execution_count": 27,
     "metadata": {},
     "output_type": "execute_result"
    }
   ],
   "source": [
    "len(merged_df)"
   ]
  },
  {
   "cell_type": "code",
   "execution_count": 28,
   "id": "3d8b589a",
   "metadata": {},
   "outputs": [
    {
     "data": {
      "text/html": [
       "<div>\n",
       "<style scoped>\n",
       "    .dataframe tbody tr th:only-of-type {\n",
       "        vertical-align: middle;\n",
       "    }\n",
       "\n",
       "    .dataframe tbody tr th {\n",
       "        vertical-align: top;\n",
       "    }\n",
       "\n",
       "    .dataframe thead th {\n",
       "        text-align: right;\n",
       "    }\n",
       "</style>\n",
       "<table border=\"1\" class=\"dataframe\">\n",
       "  <thead>\n",
       "    <tr style=\"text-align: right;\">\n",
       "      <th></th>\n",
       "      <th>id</th>\n",
       "      <th>utterance_id</th>\n",
       "      <th>utterance_type</th>\n",
       "      <th>utterance_text</th>\n",
       "      <th>terminate</th>\n",
       "      <th>regDate</th>\n",
       "      <th>updDate</th>\n",
       "    </tr>\n",
       "  </thead>\n",
       "  <tbody>\n",
       "    <tr>\n",
       "      <th>0</th>\n",
       "      <td>BE22026986</td>\n",
       "      <td>1</td>\n",
       "      <td>0</td>\n",
       "      <td>자기야, 오랜만에 본가에 오니까 정말 너무 안정감을 느껴. 역시 자취도 좋지만 집밥...</td>\n",
       "      <td>N</td>\n",
       "      <td>2022-10-11 19:06:06</td>\n",
       "      <td>2022-11-08 15:15:25</td>\n",
       "    </tr>\n",
       "    <tr>\n",
       "      <th>1</th>\n",
       "      <td>BE22026986</td>\n",
       "      <td>2</td>\n",
       "      <td>1</td>\n",
       "      <td>자기야, 먼 길 떠나 본가로 가서 행복한 시간 보내고 있다니 정말 다행이다. 그래서...</td>\n",
       "      <td>N</td>\n",
       "      <td>2022-10-11 19:06:06</td>\n",
       "      <td>2022-11-08 15:15:25</td>\n",
       "    </tr>\n",
       "    <tr>\n",
       "      <th>2</th>\n",
       "      <td>BE22026986</td>\n",
       "      <td>3</td>\n",
       "      <td>0</td>\n",
       "      <td>오늘 엄마가 김치찌개를 만들어주셨어. 자기도 알다시피 내가 제일 좋아하는 음식이 김...</td>\n",
       "      <td>N</td>\n",
       "      <td>2022-10-11 19:06:06</td>\n",
       "      <td>2022-10-11 19:06:06</td>\n",
       "    </tr>\n",
       "    <tr>\n",
       "      <th>3</th>\n",
       "      <td>BE22026986</td>\n",
       "      <td>4</td>\n",
       "      <td>1</td>\n",
       "      <td>자기의 어머니 음식 솜씨가 대단하다고 하셨잖아. 오랫동안 먹지 못했던 어머니의 집밥...</td>\n",
       "      <td>N</td>\n",
       "      <td>2022-10-11 19:06:06</td>\n",
       "      <td>2022-11-08 15:15:25</td>\n",
       "    </tr>\n",
       "    <tr>\n",
       "      <th>4</th>\n",
       "      <td>BE22026986</td>\n",
       "      <td>5</td>\n",
       "      <td>0</td>\n",
       "      <td>자취할때 엄마가 너무 보고싶었는데, 오랜만에 보니까 너무 기쁘더라고. 역시 가족이라...</td>\n",
       "      <td>N</td>\n",
       "      <td>2022-10-11 19:06:06</td>\n",
       "      <td>2022-10-11 19:06:06</td>\n",
       "    </tr>\n",
       "    <tr>\n",
       "      <th>...</th>\n",
       "      <td>...</td>\n",
       "      <td>...</td>\n",
       "      <td>...</td>\n",
       "      <td>...</td>\n",
       "      <td>...</td>\n",
       "      <td>...</td>\n",
       "      <td>...</td>\n",
       "    </tr>\n",
       "    <tr>\n",
       "      <th>2599</th>\n",
       "      <td>BE22027894</td>\n",
       "      <td>10</td>\n",
       "      <td>1</td>\n",
       "      <td>무언가에 이토록 빠져서 좋아할 수 있다는 것도 엄청난 복이고 대단한 일이잖아. 기쁘...</td>\n",
       "      <td>N</td>\n",
       "      <td>2022-10-13 10:23:10</td>\n",
       "      <td>2022-11-08 15:20:54</td>\n",
       "    </tr>\n",
       "    <tr>\n",
       "      <th>2600</th>\n",
       "      <td>BE22027894</td>\n",
       "      <td>11</td>\n",
       "      <td>0</td>\n",
       "      <td>때로는 스쳐 지나가지 않고 두고두고 간직하면서 품고 싶은 것들이 있잖아. 그런 추억...</td>\n",
       "      <td>N</td>\n",
       "      <td>2022-10-13 10:23:10</td>\n",
       "      <td>2022-10-13 10:23:10</td>\n",
       "    </tr>\n",
       "    <tr>\n",
       "      <th>2601</th>\n",
       "      <td>BE22027894</td>\n",
       "      <td>12</td>\n",
       "      <td>1</td>\n",
       "      <td>나는 현재를 살아가는 것에 지쳐서 그런 예쁜 감성을 느꼈던 적이 언제인지 기억조차 ...</td>\n",
       "      <td>N</td>\n",
       "      <td>2022-10-13 10:23:10</td>\n",
       "      <td>2022-11-08 15:20:54</td>\n",
       "    </tr>\n",
       "    <tr>\n",
       "      <th>2602</th>\n",
       "      <td>BE22027894</td>\n",
       "      <td>13</td>\n",
       "      <td>0</td>\n",
       "      <td>뭐 그렇게까지 하나 싶을 수도 있는데 자기가 내 마음을 잘 이해해주고, 들어줘서 더...</td>\n",
       "      <td>N</td>\n",
       "      <td>2022-10-13 10:23:10</td>\n",
       "      <td>2022-10-13 10:23:10</td>\n",
       "    </tr>\n",
       "    <tr>\n",
       "      <th>2603</th>\n",
       "      <td>BE22027894</td>\n",
       "      <td>14</td>\n",
       "      <td>1</td>\n",
       "      <td>내가 자기에게 힘이 됐다니 그것도 정말 나에겐 기쁜 일이야. 무언가에 마음을 쏟으며...</td>\n",
       "      <td>Y</td>\n",
       "      <td>2022-10-13 10:23:10</td>\n",
       "      <td>2022-11-08 15:20:54</td>\n",
       "    </tr>\n",
       "  </tbody>\n",
       "</table>\n",
       "<p>2604 rows × 7 columns</p>\n",
       "</div>"
      ],
      "text/plain": [
       "              id  utterance_id  utterance_type  \\\n",
       "0     BE22026986             1               0   \n",
       "1     BE22026986             2               1   \n",
       "2     BE22026986             3               0   \n",
       "3     BE22026986             4               1   \n",
       "4     BE22026986             5               0   \n",
       "...          ...           ...             ...   \n",
       "2599  BE22027894            10               1   \n",
       "2600  BE22027894            11               0   \n",
       "2601  BE22027894            12               1   \n",
       "2602  BE22027894            13               0   \n",
       "2603  BE22027894            14               1   \n",
       "\n",
       "                                         utterance_text terminate  \\\n",
       "0     자기야, 오랜만에 본가에 오니까 정말 너무 안정감을 느껴. 역시 자취도 좋지만 집밥...         N   \n",
       "1     자기야, 먼 길 떠나 본가로 가서 행복한 시간 보내고 있다니 정말 다행이다. 그래서...         N   \n",
       "2     오늘 엄마가 김치찌개를 만들어주셨어. 자기도 알다시피 내가 제일 좋아하는 음식이 김...         N   \n",
       "3     자기의 어머니 음식 솜씨가 대단하다고 하셨잖아. 오랫동안 먹지 못했던 어머니의 집밥...         N   \n",
       "4     자취할때 엄마가 너무 보고싶었는데, 오랜만에 보니까 너무 기쁘더라고. 역시 가족이라...         N   \n",
       "...                                                 ...       ...   \n",
       "2599  무언가에 이토록 빠져서 좋아할 수 있다는 것도 엄청난 복이고 대단한 일이잖아. 기쁘...         N   \n",
       "2600  때로는 스쳐 지나가지 않고 두고두고 간직하면서 품고 싶은 것들이 있잖아. 그런 추억...         N   \n",
       "2601  나는 현재를 살아가는 것에 지쳐서 그런 예쁜 감성을 느꼈던 적이 언제인지 기억조차 ...         N   \n",
       "2602  뭐 그렇게까지 하나 싶을 수도 있는데 자기가 내 마음을 잘 이해해주고, 들어줘서 더...         N   \n",
       "2603  내가 자기에게 힘이 됐다니 그것도 정말 나에겐 기쁜 일이야. 무언가에 마음을 쏟으며...         Y   \n",
       "\n",
       "                  regDate              updDate  \n",
       "0     2022-10-11 19:06:06  2022-11-08 15:15:25  \n",
       "1     2022-10-11 19:06:06  2022-11-08 15:15:25  \n",
       "2     2022-10-11 19:06:06  2022-10-11 19:06:06  \n",
       "3     2022-10-11 19:06:06  2022-11-08 15:15:25  \n",
       "4     2022-10-11 19:06:06  2022-10-11 19:06:06  \n",
       "...                   ...                  ...  \n",
       "2599  2022-10-13 10:23:10  2022-11-08 15:20:54  \n",
       "2600  2022-10-13 10:23:10  2022-10-13 10:23:10  \n",
       "2601  2022-10-13 10:23:10  2022-11-08 15:20:54  \n",
       "2602  2022-10-13 10:23:10  2022-10-13 10:23:10  \n",
       "2603  2022-10-13 10:23:10  2022-11-08 15:20:54  \n",
       "\n",
       "[2604 rows x 7 columns]"
      ]
     },
     "execution_count": 28,
     "metadata": {},
     "output_type": "execute_result"
    }
   ],
   "source": [
    "merged_df"
   ]
  },
  {
   "cell_type": "markdown",
   "id": "2b85bbce",
   "metadata": {},
   "source": [
    "### 2) 상대방(text_to) / 나(text_me) 분류하기"
   ]
  },
  {
   "cell_type": "code",
   "execution_count": 29,
   "id": "bd8625bf",
   "metadata": {},
   "outputs": [],
   "source": [
    "text_to = merged_df[merged_df['utterance_type'] == 0]\n",
    "text_me = merged_df[merged_df['utterance_type'] == 1]\n",
    "\n",
    "text_to.to_csv('text_to', index = False)\n",
    "text_me.to_csv('text_me', index = False)"
   ]
  },
  {
   "cell_type": "code",
   "execution_count": 30,
   "id": "4cbdcf74",
   "metadata": {},
   "outputs": [
    {
     "data": {
      "text/html": [
       "<div>\n",
       "<style scoped>\n",
       "    .dataframe tbody tr th:only-of-type {\n",
       "        vertical-align: middle;\n",
       "    }\n",
       "\n",
       "    .dataframe tbody tr th {\n",
       "        vertical-align: top;\n",
       "    }\n",
       "\n",
       "    .dataframe thead th {\n",
       "        text-align: right;\n",
       "    }\n",
       "</style>\n",
       "<table border=\"1\" class=\"dataframe\">\n",
       "  <thead>\n",
       "    <tr style=\"text-align: right;\">\n",
       "      <th></th>\n",
       "      <th>id</th>\n",
       "      <th>utterance_id</th>\n",
       "      <th>utterance_type</th>\n",
       "      <th>utterance_text</th>\n",
       "      <th>terminate</th>\n",
       "      <th>regDate</th>\n",
       "      <th>updDate</th>\n",
       "    </tr>\n",
       "  </thead>\n",
       "  <tbody>\n",
       "    <tr>\n",
       "      <th>1</th>\n",
       "      <td>BE22026986</td>\n",
       "      <td>2</td>\n",
       "      <td>1</td>\n",
       "      <td>자기야, 먼 길 떠나 본가로 가서 행복한 시간 보내고 있다니 정말 다행이다. 그래서...</td>\n",
       "      <td>N</td>\n",
       "      <td>2022-10-11 19:06:06</td>\n",
       "      <td>2022-11-08 15:15:25</td>\n",
       "    </tr>\n",
       "    <tr>\n",
       "      <th>3</th>\n",
       "      <td>BE22026986</td>\n",
       "      <td>4</td>\n",
       "      <td>1</td>\n",
       "      <td>자기의 어머니 음식 솜씨가 대단하다고 하셨잖아. 오랫동안 먹지 못했던 어머니의 집밥...</td>\n",
       "      <td>N</td>\n",
       "      <td>2022-10-11 19:06:06</td>\n",
       "      <td>2022-11-08 15:15:25</td>\n",
       "    </tr>\n",
       "    <tr>\n",
       "      <th>5</th>\n",
       "      <td>BE22026986</td>\n",
       "      <td>6</td>\n",
       "      <td>1</td>\n",
       "      <td>그 누구보다도 자기를 사랑해주시는 분들이 부모님이시잖아. 자기가 본가에 온다고 해서...</td>\n",
       "      <td>N</td>\n",
       "      <td>2022-10-11 19:06:06</td>\n",
       "      <td>2022-11-08 15:15:25</td>\n",
       "    </tr>\n",
       "    <tr>\n",
       "      <th>7</th>\n",
       "      <td>BE22026986</td>\n",
       "      <td>8</td>\n",
       "      <td>1</td>\n",
       "      <td>나도 부모님이랑 영화보는 것 진짜 좋아하는데. 그렇게 가족들과 시간을 보내면서 절로...</td>\n",
       "      <td>N</td>\n",
       "      <td>2022-10-11 19:06:06</td>\n",
       "      <td>2022-11-08 15:15:25</td>\n",
       "    </tr>\n",
       "    <tr>\n",
       "      <th>9</th>\n",
       "      <td>BE22026986</td>\n",
       "      <td>10</td>\n",
       "      <td>1</td>\n",
       "      <td>자기가 본가에 내려가 있는 그 며칠 동안 행복한 시간들 많이 만들고 왔으면 좋겠다.</td>\n",
       "      <td>N</td>\n",
       "      <td>2022-10-11 19:06:06</td>\n",
       "      <td>2022-11-08 15:15:25</td>\n",
       "    </tr>\n",
       "    <tr>\n",
       "      <th>...</th>\n",
       "      <td>...</td>\n",
       "      <td>...</td>\n",
       "      <td>...</td>\n",
       "      <td>...</td>\n",
       "      <td>...</td>\n",
       "      <td>...</td>\n",
       "      <td>...</td>\n",
       "    </tr>\n",
       "    <tr>\n",
       "      <th>2595</th>\n",
       "      <td>BE22027894</td>\n",
       "      <td>6</td>\n",
       "      <td>1</td>\n",
       "      <td>자기가 매의 눈으로 찾아다니던 보람이 있는 순간이었네. 자칫 잘못하면 보지 못하거나...</td>\n",
       "      <td>N</td>\n",
       "      <td>2022-10-13 10:23:10</td>\n",
       "      <td>2022-11-08 15:20:54</td>\n",
       "    </tr>\n",
       "    <tr>\n",
       "      <th>2597</th>\n",
       "      <td>BE22027894</td>\n",
       "      <td>8</td>\n",
       "      <td>1</td>\n",
       "      <td>나는 갖고 싶었던 물건이 품절되면 어쩔 수 없네, 하고 쉽게 포기해버리거든. 그런데...</td>\n",
       "      <td>N</td>\n",
       "      <td>2022-10-13 10:23:10</td>\n",
       "      <td>2022-11-08 15:20:54</td>\n",
       "    </tr>\n",
       "    <tr>\n",
       "      <th>2599</th>\n",
       "      <td>BE22027894</td>\n",
       "      <td>10</td>\n",
       "      <td>1</td>\n",
       "      <td>무언가에 이토록 빠져서 좋아할 수 있다는 것도 엄청난 복이고 대단한 일이잖아. 기쁘...</td>\n",
       "      <td>N</td>\n",
       "      <td>2022-10-13 10:23:10</td>\n",
       "      <td>2022-11-08 15:20:54</td>\n",
       "    </tr>\n",
       "    <tr>\n",
       "      <th>2601</th>\n",
       "      <td>BE22027894</td>\n",
       "      <td>12</td>\n",
       "      <td>1</td>\n",
       "      <td>나는 현재를 살아가는 것에 지쳐서 그런 예쁜 감성을 느꼈던 적이 언제인지 기억조차 ...</td>\n",
       "      <td>N</td>\n",
       "      <td>2022-10-13 10:23:10</td>\n",
       "      <td>2022-11-08 15:20:54</td>\n",
       "    </tr>\n",
       "    <tr>\n",
       "      <th>2603</th>\n",
       "      <td>BE22027894</td>\n",
       "      <td>14</td>\n",
       "      <td>1</td>\n",
       "      <td>내가 자기에게 힘이 됐다니 그것도 정말 나에겐 기쁜 일이야. 무언가에 마음을 쏟으며...</td>\n",
       "      <td>Y</td>\n",
       "      <td>2022-10-13 10:23:10</td>\n",
       "      <td>2022-11-08 15:20:54</td>\n",
       "    </tr>\n",
       "  </tbody>\n",
       "</table>\n",
       "<p>1274 rows × 7 columns</p>\n",
       "</div>"
      ],
      "text/plain": [
       "              id  utterance_id  utterance_type  \\\n",
       "1     BE22026986             2               1   \n",
       "3     BE22026986             4               1   \n",
       "5     BE22026986             6               1   \n",
       "7     BE22026986             8               1   \n",
       "9     BE22026986            10               1   \n",
       "...          ...           ...             ...   \n",
       "2595  BE22027894             6               1   \n",
       "2597  BE22027894             8               1   \n",
       "2599  BE22027894            10               1   \n",
       "2601  BE22027894            12               1   \n",
       "2603  BE22027894            14               1   \n",
       "\n",
       "                                         utterance_text terminate  \\\n",
       "1     자기야, 먼 길 떠나 본가로 가서 행복한 시간 보내고 있다니 정말 다행이다. 그래서...         N   \n",
       "3     자기의 어머니 음식 솜씨가 대단하다고 하셨잖아. 오랫동안 먹지 못했던 어머니의 집밥...         N   \n",
       "5     그 누구보다도 자기를 사랑해주시는 분들이 부모님이시잖아. 자기가 본가에 온다고 해서...         N   \n",
       "7     나도 부모님이랑 영화보는 것 진짜 좋아하는데. 그렇게 가족들과 시간을 보내면서 절로...         N   \n",
       "9        자기가 본가에 내려가 있는 그 며칠 동안 행복한 시간들 많이 만들고 왔으면 좋겠다.         N   \n",
       "...                                                 ...       ...   \n",
       "2595  자기가 매의 눈으로 찾아다니던 보람이 있는 순간이었네. 자칫 잘못하면 보지 못하거나...         N   \n",
       "2597  나는 갖고 싶었던 물건이 품절되면 어쩔 수 없네, 하고 쉽게 포기해버리거든. 그런데...         N   \n",
       "2599  무언가에 이토록 빠져서 좋아할 수 있다는 것도 엄청난 복이고 대단한 일이잖아. 기쁘...         N   \n",
       "2601  나는 현재를 살아가는 것에 지쳐서 그런 예쁜 감성을 느꼈던 적이 언제인지 기억조차 ...         N   \n",
       "2603  내가 자기에게 힘이 됐다니 그것도 정말 나에겐 기쁜 일이야. 무언가에 마음을 쏟으며...         Y   \n",
       "\n",
       "                  regDate              updDate  \n",
       "1     2022-10-11 19:06:06  2022-11-08 15:15:25  \n",
       "3     2022-10-11 19:06:06  2022-11-08 15:15:25  \n",
       "5     2022-10-11 19:06:06  2022-11-08 15:15:25  \n",
       "7     2022-10-11 19:06:06  2022-11-08 15:15:25  \n",
       "9     2022-10-11 19:06:06  2022-11-08 15:15:25  \n",
       "...                   ...                  ...  \n",
       "2595  2022-10-13 10:23:10  2022-11-08 15:20:54  \n",
       "2597  2022-10-13 10:23:10  2022-11-08 15:20:54  \n",
       "2599  2022-10-13 10:23:10  2022-11-08 15:20:54  \n",
       "2601  2022-10-13 10:23:10  2022-11-08 15:20:54  \n",
       "2603  2022-10-13 10:23:10  2022-11-08 15:20:54  \n",
       "\n",
       "[1274 rows x 7 columns]"
      ]
     },
     "execution_count": 30,
     "metadata": {},
     "output_type": "execute_result"
    }
   ],
   "source": [
    "text_me"
   ]
  },
  {
   "cell_type": "code",
   "execution_count": 69,
   "id": "fcb819d0",
   "metadata": {},
   "outputs": [],
   "source": [
    "text_to = text_to[:1274]"
   ]
  },
  {
   "cell_type": "code",
   "execution_count": 70,
   "id": "8611281f",
   "metadata": {},
   "outputs": [
    {
     "data": {
      "text/html": [
       "<div>\n",
       "<style scoped>\n",
       "    .dataframe tbody tr th:only-of-type {\n",
       "        vertical-align: middle;\n",
       "    }\n",
       "\n",
       "    .dataframe tbody tr th {\n",
       "        vertical-align: top;\n",
       "    }\n",
       "\n",
       "    .dataframe thead th {\n",
       "        text-align: right;\n",
       "    }\n",
       "</style>\n",
       "<table border=\"1\" class=\"dataframe\">\n",
       "  <thead>\n",
       "    <tr style=\"text-align: right;\">\n",
       "      <th></th>\n",
       "      <th>id</th>\n",
       "      <th>utterance_id</th>\n",
       "      <th>utterance_type</th>\n",
       "      <th>utterance_text</th>\n",
       "      <th>terminate</th>\n",
       "      <th>regDate</th>\n",
       "      <th>updDate</th>\n",
       "    </tr>\n",
       "  </thead>\n",
       "  <tbody>\n",
       "    <tr>\n",
       "      <th>0</th>\n",
       "      <td>BE22026986</td>\n",
       "      <td>1</td>\n",
       "      <td>0</td>\n",
       "      <td>자기야, 오랜만에 본가에 오니까 정말 너무 안정감을 느껴. 역시 자취도 좋지만 집밥...</td>\n",
       "      <td>N</td>\n",
       "      <td>2022-10-11 19:06:06</td>\n",
       "      <td>2022-11-08 15:15:25</td>\n",
       "    </tr>\n",
       "    <tr>\n",
       "      <th>2</th>\n",
       "      <td>BE22026986</td>\n",
       "      <td>3</td>\n",
       "      <td>0</td>\n",
       "      <td>오늘 엄마가 김치찌개를 만들어주셨어. 자기도 알다시피 내가 제일 좋아하는 음식이 김...</td>\n",
       "      <td>N</td>\n",
       "      <td>2022-10-11 19:06:06</td>\n",
       "      <td>2022-10-11 19:06:06</td>\n",
       "    </tr>\n",
       "    <tr>\n",
       "      <th>4</th>\n",
       "      <td>BE22026986</td>\n",
       "      <td>5</td>\n",
       "      <td>0</td>\n",
       "      <td>자취할때 엄마가 너무 보고싶었는데, 오랜만에 보니까 너무 기쁘더라고. 역시 가족이라...</td>\n",
       "      <td>N</td>\n",
       "      <td>2022-10-11 19:06:06</td>\n",
       "      <td>2022-10-11 19:06:06</td>\n",
       "    </tr>\n",
       "    <tr>\n",
       "      <th>6</th>\n",
       "      <td>BE22026986</td>\n",
       "      <td>7</td>\n",
       "      <td>0</td>\n",
       "      <td>오늘 엄마의 김치찌개를 먹은 후에 부모님과 같이 영화도 보고 왔어. 부모님이랑 정말...</td>\n",
       "      <td>N</td>\n",
       "      <td>2022-10-11 19:06:06</td>\n",
       "      <td>2022-10-11 19:06:06</td>\n",
       "    </tr>\n",
       "    <tr>\n",
       "      <th>8</th>\n",
       "      <td>BE22026986</td>\n",
       "      <td>9</td>\n",
       "      <td>0</td>\n",
       "      <td>자기 말이 맞아. 일하면서 받은 스트레스가 다 날아가버릴 정도로 너무 즐겁고 행복해.</td>\n",
       "      <td>N</td>\n",
       "      <td>2022-10-11 19:06:06</td>\n",
       "      <td>2022-10-11 19:06:06</td>\n",
       "    </tr>\n",
       "    <tr>\n",
       "      <th>...</th>\n",
       "      <td>...</td>\n",
       "      <td>...</td>\n",
       "      <td>...</td>\n",
       "      <td>...</td>\n",
       "      <td>...</td>\n",
       "      <td>...</td>\n",
       "      <td>...</td>\n",
       "    </tr>\n",
       "    <tr>\n",
       "      <th>2484</th>\n",
       "      <td>BE22027819</td>\n",
       "      <td>9</td>\n",
       "      <td>0</td>\n",
       "      <td>직장에서 도움을 주는 사람을 만나는 건 생각보다 쉽지 않았어. 다들 본인들 일을 처...</td>\n",
       "      <td>N</td>\n",
       "      <td>2022-10-13 01:12:13</td>\n",
       "      <td>2022-11-08 15:20:26</td>\n",
       "    </tr>\n",
       "    <tr>\n",
       "      <th>2486</th>\n",
       "      <td>BE22027819</td>\n",
       "      <td>11</td>\n",
       "      <td>0</td>\n",
       "      <td>앞으로 더 나은 방향으로 내가 일을 할 수 있을 것 같아서, 앞으로가 기대돼. 기계...</td>\n",
       "      <td>N</td>\n",
       "      <td>2022-10-13 01:12:13</td>\n",
       "      <td>2022-10-13 01:12:13</td>\n",
       "    </tr>\n",
       "    <tr>\n",
       "      <th>2488</th>\n",
       "      <td>BE22027819</td>\n",
       "      <td>13</td>\n",
       "      <td>0</td>\n",
       "      <td>염려스러웠던 마음이 해소가 되니까, 마음이 한결 가벼워지면서 오히려 열정으로 채워지...</td>\n",
       "      <td>N</td>\n",
       "      <td>2022-10-13 01:12:13</td>\n",
       "      <td>2022-10-13 01:12:13</td>\n",
       "    </tr>\n",
       "    <tr>\n",
       "      <th>2490</th>\n",
       "      <td>BE22027846</td>\n",
       "      <td>1</td>\n",
       "      <td>0</td>\n",
       "      <td>자기야. 나 지금 기분이 너무 좋아.</td>\n",
       "      <td>N</td>\n",
       "      <td>2022-10-13 06:17:02</td>\n",
       "      <td>2022-10-13 06:17:02</td>\n",
       "    </tr>\n",
       "    <tr>\n",
       "      <th>2492</th>\n",
       "      <td>BE22027846</td>\n",
       "      <td>3</td>\n",
       "      <td>0</td>\n",
       "      <td>내가 사고 싶었던 스마트워치를 드디어 샀어. 사고 싶었던 물건을 사니까 기분이 너무...</td>\n",
       "      <td>N</td>\n",
       "      <td>2022-10-13 06:17:02</td>\n",
       "      <td>2022-10-13 06:17:02</td>\n",
       "    </tr>\n",
       "  </tbody>\n",
       "</table>\n",
       "<p>1274 rows × 7 columns</p>\n",
       "</div>"
      ],
      "text/plain": [
       "              id  utterance_id  utterance_type  \\\n",
       "0     BE22026986             1               0   \n",
       "2     BE22026986             3               0   \n",
       "4     BE22026986             5               0   \n",
       "6     BE22026986             7               0   \n",
       "8     BE22026986             9               0   \n",
       "...          ...           ...             ...   \n",
       "2484  BE22027819             9               0   \n",
       "2486  BE22027819            11               0   \n",
       "2488  BE22027819            13               0   \n",
       "2490  BE22027846             1               0   \n",
       "2492  BE22027846             3               0   \n",
       "\n",
       "                                         utterance_text terminate  \\\n",
       "0     자기야, 오랜만에 본가에 오니까 정말 너무 안정감을 느껴. 역시 자취도 좋지만 집밥...         N   \n",
       "2     오늘 엄마가 김치찌개를 만들어주셨어. 자기도 알다시피 내가 제일 좋아하는 음식이 김...         N   \n",
       "4     자취할때 엄마가 너무 보고싶었는데, 오랜만에 보니까 너무 기쁘더라고. 역시 가족이라...         N   \n",
       "6     오늘 엄마의 김치찌개를 먹은 후에 부모님과 같이 영화도 보고 왔어. 부모님이랑 정말...         N   \n",
       "8       자기 말이 맞아. 일하면서 받은 스트레스가 다 날아가버릴 정도로 너무 즐겁고 행복해.         N   \n",
       "...                                                 ...       ...   \n",
       "2484  직장에서 도움을 주는 사람을 만나는 건 생각보다 쉽지 않았어. 다들 본인들 일을 처...         N   \n",
       "2486  앞으로 더 나은 방향으로 내가 일을 할 수 있을 것 같아서, 앞으로가 기대돼. 기계...         N   \n",
       "2488  염려스러웠던 마음이 해소가 되니까, 마음이 한결 가벼워지면서 오히려 열정으로 채워지...         N   \n",
       "2490                               자기야. 나 지금 기분이 너무 좋아.         N   \n",
       "2492  내가 사고 싶었던 스마트워치를 드디어 샀어. 사고 싶었던 물건을 사니까 기분이 너무...         N   \n",
       "\n",
       "                  regDate              updDate  \n",
       "0     2022-10-11 19:06:06  2022-11-08 15:15:25  \n",
       "2     2022-10-11 19:06:06  2022-10-11 19:06:06  \n",
       "4     2022-10-11 19:06:06  2022-10-11 19:06:06  \n",
       "6     2022-10-11 19:06:06  2022-10-11 19:06:06  \n",
       "8     2022-10-11 19:06:06  2022-10-11 19:06:06  \n",
       "...                   ...                  ...  \n",
       "2484  2022-10-13 01:12:13  2022-11-08 15:20:26  \n",
       "2486  2022-10-13 01:12:13  2022-10-13 01:12:13  \n",
       "2488  2022-10-13 01:12:13  2022-10-13 01:12:13  \n",
       "2490  2022-10-13 06:17:02  2022-10-13 06:17:02  \n",
       "2492  2022-10-13 06:17:02  2022-10-13 06:17:02  \n",
       "\n",
       "[1274 rows x 7 columns]"
      ]
     },
     "execution_count": 70,
     "metadata": {},
     "output_type": "execute_result"
    }
   ],
   "source": [
    "text_to"
   ]
  },
  {
   "cell_type": "code",
   "execution_count": 88,
   "id": "882bf58a",
   "metadata": {},
   "outputs": [],
   "source": [
    "text_to_0 = text_to[text_to['utterance_type'] == 0][['utterance_text']]"
   ]
  },
  {
   "cell_type": "code",
   "execution_count": 89,
   "id": "8c66e2cf",
   "metadata": {},
   "outputs": [],
   "source": [
    "text_me_1 = text_me[text_me['utterance_type'] == 1][['utterance_text']]"
   ]
  },
  {
   "cell_type": "code",
   "execution_count": 96,
   "id": "f728eda6",
   "metadata": {},
   "outputs": [],
   "source": [
    "merged_text = pd.concat([text_to_0.reset_index(drop=True), text_me_1.reset_index(drop = True)], axis = 1, ignore_index = True)"
   ]
  },
  {
   "cell_type": "code",
   "execution_count": 104,
   "id": "3564569d",
   "metadata": {},
   "outputs": [],
   "source": [
    "df_happiness = merged_text"
   ]
  },
  {
   "cell_type": "markdown",
   "id": "9e7253af",
   "metadata": {},
   "source": [
    "## 3. '상대방 - 나' 대화 사이 유사도 파악하기"
   ]
  },
  {
   "cell_type": "markdown",
   "id": "c0f94686",
   "metadata": {},
   "source": [
    "### 1. 코사인 유사도 \n",
    "### 2. sequence Matcher\n",
    "### 3. SBert (최종 선정)"
   ]
  },
  {
   "cell_type": "markdown",
   "id": "35767d4f",
   "metadata": {},
   "source": [
    "Ex) 코사인 유사도 - 형태소 분석 x. 띄어쓰기를 기준으로 테스트함."
   ]
  },
  {
   "cell_type": "code",
   "execution_count": 33,
   "id": "c37469fa",
   "metadata": {},
   "outputs": [],
   "source": [
    "from sklearn.feature_extraction.text import TfidfVectorizer\n",
    "from sklearn.metrics.pairwise import cosine_similarity"
   ]
  },
  {
   "cell_type": "code",
   "execution_count": 46,
   "id": "64da3c13",
   "metadata": {},
   "outputs": [
    {
     "name": "stdout",
     "output_type": "stream",
     "text": [
      "코사인 유사도 측정\n",
      "0.0\n"
     ]
    }
   ],
   "source": [
    "sentences = (\"그건 아닌데 어떤 이상한 놈 때문에 기분 다 잡쳤어\", \n",
    "\"아 진짜 생각만 해도 짜증나네 나도\")\n",
    "\n",
    "tfidf_vectorizer = TfidfVectorizer()\n",
    "tfidf_matrix = tfidf_vectorizer.fit_transform(sentences)\n",
    "cos_similar = cosine_similarity(tfidf_matrix[0:1], tfidf_matrix[1:2])\n",
    "\n",
    "print(\"코사인 유사도 측정\")\n",
    "print(cos_similar[0][0])"
   ]
  },
  {
   "cell_type": "markdown",
   "id": "dc5a5fe3",
   "metadata": {},
   "source": [
    "Ex) sequence Matcher - string, byte화 한 뒤 리스트로 만들어 두 리스트 간 유사도 측정하는 방식"
   ]
  },
  {
   "cell_type": "code",
   "execution_count": 35,
   "id": "66929ed6",
   "metadata": {},
   "outputs": [],
   "source": [
    "import difflib"
   ]
  },
  {
   "cell_type": "code",
   "execution_count": 49,
   "id": "83e80186",
   "metadata": {},
   "outputs": [
    {
     "name": "stdout",
     "output_type": "stream",
     "text": [
      "seMatch 유사도 측정\n",
      "0.3448275862068966\n"
     ]
    }
   ],
   "source": [
    "answer_string = \"아 진짜 부장님 개짜증나\"\n",
    "input_string = \"그 부장님 때문에 나도 짜증나네. 내가 한 대 때려줄까? ㅋㅋㅋ\"\n",
    "\n",
    "answer_bytes = bytes(answer_string, 'utf-8')\n",
    "input_bytes = bytes(input_string, 'utf-8')\n",
    "answer_bytes_list = list(answer_bytes)\n",
    "input_bytes_list = list(input_bytes)\n",
    "\n",
    "sm = difflib.SequenceMatcher(None, answer_bytes_list, input_bytes_list)\n",
    "similar = sm.ratio()\n",
    "\n",
    "print('seMatch 유사도 측정')\n",
    "print(similar)"
   ]
  },
  {
   "cell_type": "markdown",
   "id": "e1715523",
   "metadata": {},
   "source": [
    "Ex) SBert\n",
    "https://wikidocs.net/162007 참고"
   ]
  },
  {
   "cell_type": "code",
   "execution_count": 65,
   "id": "3e4b4be2",
   "metadata": {},
   "outputs": [],
   "source": [
    "import pandas as pd\n",
    "import matplotlib.pyplot as plt\n",
    "import seaborn as sns\n",
    "from sklearn.feature_extraction.text import TfidfVectorizer\n",
    "from sklearn.metrics.pairwise import cosine_similarity\n",
    "from tqdm.auto import tqdm"
   ]
  },
  {
   "cell_type": "code",
   "execution_count": 63,
   "id": "20d9642c",
   "metadata": {},
   "outputs": [
    {
     "data": {
      "application/vnd.jupyter.widget-view+json": {
       "model_id": "ce81c3674b85409c99c64afbef547077",
       "version_major": 2,
       "version_minor": 0
      },
      "text/plain": [
       "modules.json:   0%|          | 0.00/229 [00:00<?, ?B/s]"
      ]
     },
     "metadata": {},
     "output_type": "display_data"
    },
    {
     "data": {
      "application/vnd.jupyter.widget-view+json": {
       "model_id": "78fae16002e14aea80cbc177cb879e11",
       "version_major": 2,
       "version_minor": 0
      },
      "text/plain": [
       "config_sentence_transformers.json:   0%|          | 0.00/122 [00:00<?, ?B/s]"
      ]
     },
     "metadata": {},
     "output_type": "display_data"
    },
    {
     "data": {
      "application/vnd.jupyter.widget-view+json": {
       "model_id": "8f610db4ca1f4971a6599b34fb9c3d55",
       "version_major": 2,
       "version_minor": 0
      },
      "text/plain": [
       "README.md:   0%|          | 0.00/4.12k [00:00<?, ?B/s]"
      ]
     },
     "metadata": {},
     "output_type": "display_data"
    },
    {
     "data": {
      "application/vnd.jupyter.widget-view+json": {
       "model_id": "8a8ad559aeb34e04b26c8822858ace3e",
       "version_major": 2,
       "version_minor": 0
      },
      "text/plain": [
       "sentence_bert_config.json:   0%|          | 0.00/53.0 [00:00<?, ?B/s]"
      ]
     },
     "metadata": {},
     "output_type": "display_data"
    },
    {
     "data": {
      "application/vnd.jupyter.widget-view+json": {
       "model_id": "4aa0903c653349c6a19dc06de364b665",
       "version_major": 2,
       "version_minor": 0
      },
      "text/plain": [
       "config.json:   0%|          | 0.00/645 [00:00<?, ?B/s]"
      ]
     },
     "metadata": {},
     "output_type": "display_data"
    },
    {
     "data": {
      "application/vnd.jupyter.widget-view+json": {
       "model_id": "99593013cbc74b9a84c629f862d0a35b",
       "version_major": 2,
       "version_minor": 0
      },
      "text/plain": [
       "model.safetensors:   0%|          | 0.00/471M [00:00<?, ?B/s]"
      ]
     },
     "metadata": {},
     "output_type": "display_data"
    },
    {
     "data": {
      "application/vnd.jupyter.widget-view+json": {
       "model_id": "730b1d567662489f98c82f3b444e8133",
       "version_major": 2,
       "version_minor": 0
      },
      "text/plain": [
       "tokenizer_config.json:   0%|          | 0.00/480 [00:00<?, ?B/s]"
      ]
     },
     "metadata": {},
     "output_type": "display_data"
    },
    {
     "data": {
      "application/vnd.jupyter.widget-view+json": {
       "model_id": "a6e0e65e3ef048a1808348fa48c28d3e",
       "version_major": 2,
       "version_minor": 0
      },
      "text/plain": [
       "tokenizer.json:   0%|          | 0.00/9.08M [00:00<?, ?B/s]"
      ]
     },
     "metadata": {},
     "output_type": "display_data"
    },
    {
     "data": {
      "application/vnd.jupyter.widget-view+json": {
       "model_id": "53ac9c7a63504a00a7c86a4118fe127d",
       "version_major": 2,
       "version_minor": 0
      },
      "text/plain": [
       "special_tokens_map.json:   0%|          | 0.00/239 [00:00<?, ?B/s]"
      ]
     },
     "metadata": {},
     "output_type": "display_data"
    },
    {
     "data": {
      "application/vnd.jupyter.widget-view+json": {
       "model_id": "71b344c017984353b9a77137052b8ea3",
       "version_major": 2,
       "version_minor": 0
      },
      "text/plain": [
       "1_Pooling/config.json:   0%|          | 0.00/190 [00:00<?, ?B/s]"
      ]
     },
     "metadata": {},
     "output_type": "display_data"
    }
   ],
   "source": [
    "from sentence_transformers import SentenceTransformer, util\n",
    "model = SentenceTransformer('paraphrase-multilingual-MiniLM-L12-v2')"
   ]
  },
  {
   "cell_type": "code",
   "execution_count": 71,
   "id": "601d7603",
   "metadata": {},
   "outputs": [
    {
     "data": {
      "application/vnd.jupyter.widget-view+json": {
       "model_id": "b2da67f78c88494d9c71bdccce994c93",
       "version_major": 2,
       "version_minor": 0
      },
      "text/plain": [
       "  0%|          | 0/14 [00:00<?, ?it/s]"
      ]
     },
     "metadata": {},
     "output_type": "display_data"
    }
   ],
   "source": [
    "total_sim_SBERT = []\n",
    "for fir, sec in tqdm(zip(text_to['utterance_text'], text_me['utterance_text']), total=len(df)):\n",
    "    try:\n",
    "        emb1 = model.encode(fir, convert_to_tensor=True)\n",
    "        emb2 = model.encode(sec, convert_to_tensor=True)\n",
    "        cosine_scores = util.pytorch_cos_sim(emb1, emb2)\n",
    "        total_sim_SBERT.append(float(cosine_scores[0][0]))\n",
    "    except Exception as e:\n",
    "        total_sim_SBERT.append(0)"
   ]
  },
  {
   "cell_type": "code",
   "execution_count": 106,
   "id": "23aae469",
   "metadata": {},
   "outputs": [],
   "source": [
    "df_happiness['SBERT'] = total_sim_SBERT"
   ]
  },
  {
   "cell_type": "code",
   "execution_count": 107,
   "id": "b3f6e2f9",
   "metadata": {},
   "outputs": [
    {
     "data": {
      "text/html": [
       "<div>\n",
       "<style scoped>\n",
       "    .dataframe tbody tr th:only-of-type {\n",
       "        vertical-align: middle;\n",
       "    }\n",
       "\n",
       "    .dataframe tbody tr th {\n",
       "        vertical-align: top;\n",
       "    }\n",
       "\n",
       "    .dataframe thead th {\n",
       "        text-align: right;\n",
       "    }\n",
       "</style>\n",
       "<table border=\"1\" class=\"dataframe\">\n",
       "  <thead>\n",
       "    <tr style=\"text-align: right;\">\n",
       "      <th></th>\n",
       "      <th>0</th>\n",
       "      <th>1</th>\n",
       "      <th>SBERT</th>\n",
       "    </tr>\n",
       "  </thead>\n",
       "  <tbody>\n",
       "    <tr>\n",
       "      <th>0</th>\n",
       "      <td>자기야, 오랜만에 본가에 오니까 정말 너무 안정감을 느껴. 역시 자취도 좋지만 집밥...</td>\n",
       "      <td>자기야, 먼 길 떠나 본가로 가서 행복한 시간 보내고 있다니 정말 다행이다. 그래서...</td>\n",
       "      <td>0.703395</td>\n",
       "    </tr>\n",
       "    <tr>\n",
       "      <th>1</th>\n",
       "      <td>오늘 엄마가 김치찌개를 만들어주셨어. 자기도 알다시피 내가 제일 좋아하는 음식이 김...</td>\n",
       "      <td>자기의 어머니 음식 솜씨가 대단하다고 하셨잖아. 오랫동안 먹지 못했던 어머니의 집밥...</td>\n",
       "      <td>0.703985</td>\n",
       "    </tr>\n",
       "    <tr>\n",
       "      <th>2</th>\n",
       "      <td>자취할때 엄마가 너무 보고싶었는데, 오랜만에 보니까 너무 기쁘더라고. 역시 가족이라...</td>\n",
       "      <td>그 누구보다도 자기를 사랑해주시는 분들이 부모님이시잖아. 자기가 본가에 온다고 해서...</td>\n",
       "      <td>0.620254</td>\n",
       "    </tr>\n",
       "    <tr>\n",
       "      <th>3</th>\n",
       "      <td>오늘 엄마의 김치찌개를 먹은 후에 부모님과 같이 영화도 보고 왔어. 부모님이랑 정말...</td>\n",
       "      <td>나도 부모님이랑 영화보는 것 진짜 좋아하는데. 그렇게 가족들과 시간을 보내면서 절로...</td>\n",
       "      <td>0.664869</td>\n",
       "    </tr>\n",
       "    <tr>\n",
       "      <th>4</th>\n",
       "      <td>자기 말이 맞아. 일하면서 받은 스트레스가 다 날아가버릴 정도로 너무 즐겁고 행복해.</td>\n",
       "      <td>자기가 본가에 내려가 있는 그 며칠 동안 행복한 시간들 많이 만들고 왔으면 좋겠다.</td>\n",
       "      <td>0.568322</td>\n",
       "    </tr>\n",
       "    <tr>\n",
       "      <th>...</th>\n",
       "      <td>...</td>\n",
       "      <td>...</td>\n",
       "      <td>...</td>\n",
       "    </tr>\n",
       "    <tr>\n",
       "      <th>1269</th>\n",
       "      <td>직장에서 도움을 주는 사람을 만나는 건 생각보다 쉽지 않았어. 다들 본인들 일을 처...</td>\n",
       "      <td>자기가 매의 눈으로 찾아다니던 보람이 있는 순간이었네. 자칫 잘못하면 보지 못하거나...</td>\n",
       "      <td>0.501159</td>\n",
       "    </tr>\n",
       "    <tr>\n",
       "      <th>1270</th>\n",
       "      <td>앞으로 더 나은 방향으로 내가 일을 할 수 있을 것 같아서, 앞으로가 기대돼. 기계...</td>\n",
       "      <td>나는 갖고 싶었던 물건이 품절되면 어쩔 수 없네, 하고 쉽게 포기해버리거든. 그런데...</td>\n",
       "      <td>0.432493</td>\n",
       "    </tr>\n",
       "    <tr>\n",
       "      <th>1271</th>\n",
       "      <td>염려스러웠던 마음이 해소가 되니까, 마음이 한결 가벼워지면서 오히려 열정으로 채워지...</td>\n",
       "      <td>무언가에 이토록 빠져서 좋아할 수 있다는 것도 엄청난 복이고 대단한 일이잖아. 기쁘...</td>\n",
       "      <td>0.703630</td>\n",
       "    </tr>\n",
       "    <tr>\n",
       "      <th>1272</th>\n",
       "      <td>자기야. 나 지금 기분이 너무 좋아.</td>\n",
       "      <td>나는 현재를 살아가는 것에 지쳐서 그런 예쁜 감성을 느꼈던 적이 언제인지 기억조차 ...</td>\n",
       "      <td>0.607317</td>\n",
       "    </tr>\n",
       "    <tr>\n",
       "      <th>1273</th>\n",
       "      <td>내가 사고 싶었던 스마트워치를 드디어 샀어. 사고 싶었던 물건을 사니까 기분이 너무...</td>\n",
       "      <td>내가 자기에게 힘이 됐다니 그것도 정말 나에겐 기쁜 일이야. 무언가에 마음을 쏟으며...</td>\n",
       "      <td>0.342926</td>\n",
       "    </tr>\n",
       "  </tbody>\n",
       "</table>\n",
       "<p>1274 rows × 3 columns</p>\n",
       "</div>"
      ],
      "text/plain": [
       "                                                      0  \\\n",
       "0     자기야, 오랜만에 본가에 오니까 정말 너무 안정감을 느껴. 역시 자취도 좋지만 집밥...   \n",
       "1     오늘 엄마가 김치찌개를 만들어주셨어. 자기도 알다시피 내가 제일 좋아하는 음식이 김...   \n",
       "2     자취할때 엄마가 너무 보고싶었는데, 오랜만에 보니까 너무 기쁘더라고. 역시 가족이라...   \n",
       "3     오늘 엄마의 김치찌개를 먹은 후에 부모님과 같이 영화도 보고 왔어. 부모님이랑 정말...   \n",
       "4       자기 말이 맞아. 일하면서 받은 스트레스가 다 날아가버릴 정도로 너무 즐겁고 행복해.   \n",
       "...                                                 ...   \n",
       "1269  직장에서 도움을 주는 사람을 만나는 건 생각보다 쉽지 않았어. 다들 본인들 일을 처...   \n",
       "1270  앞으로 더 나은 방향으로 내가 일을 할 수 있을 것 같아서, 앞으로가 기대돼. 기계...   \n",
       "1271  염려스러웠던 마음이 해소가 되니까, 마음이 한결 가벼워지면서 오히려 열정으로 채워지...   \n",
       "1272                               자기야. 나 지금 기분이 너무 좋아.   \n",
       "1273  내가 사고 싶었던 스마트워치를 드디어 샀어. 사고 싶었던 물건을 사니까 기분이 너무...   \n",
       "\n",
       "                                                      1     SBERT  \n",
       "0     자기야, 먼 길 떠나 본가로 가서 행복한 시간 보내고 있다니 정말 다행이다. 그래서...  0.703395  \n",
       "1     자기의 어머니 음식 솜씨가 대단하다고 하셨잖아. 오랫동안 먹지 못했던 어머니의 집밥...  0.703985  \n",
       "2     그 누구보다도 자기를 사랑해주시는 분들이 부모님이시잖아. 자기가 본가에 온다고 해서...  0.620254  \n",
       "3     나도 부모님이랑 영화보는 것 진짜 좋아하는데. 그렇게 가족들과 시간을 보내면서 절로...  0.664869  \n",
       "4        자기가 본가에 내려가 있는 그 며칠 동안 행복한 시간들 많이 만들고 왔으면 좋겠다.  0.568322  \n",
       "...                                                 ...       ...  \n",
       "1269  자기가 매의 눈으로 찾아다니던 보람이 있는 순간이었네. 자칫 잘못하면 보지 못하거나...  0.501159  \n",
       "1270  나는 갖고 싶었던 물건이 품절되면 어쩔 수 없네, 하고 쉽게 포기해버리거든. 그런데...  0.432493  \n",
       "1271  무언가에 이토록 빠져서 좋아할 수 있다는 것도 엄청난 복이고 대단한 일이잖아. 기쁘...  0.703630  \n",
       "1272  나는 현재를 살아가는 것에 지쳐서 그런 예쁜 감성을 느꼈던 적이 언제인지 기억조차 ...  0.607317  \n",
       "1273  내가 자기에게 힘이 됐다니 그것도 정말 나에겐 기쁜 일이야. 무언가에 마음을 쏟으며...  0.342926  \n",
       "\n",
       "[1274 rows x 3 columns]"
      ]
     },
     "execution_count": 107,
     "metadata": {},
     "output_type": "execute_result"
    }
   ],
   "source": [
    "df_happiness"
   ]
  },
  {
   "cell_type": "code",
   "execution_count": 108,
   "id": "11313bbf",
   "metadata": {},
   "outputs": [
    {
     "data": {
      "text/plain": [
       "<Axes: xlabel='SBERT', ylabel='Count'>"
      ]
     },
     "execution_count": 108,
     "metadata": {},
     "output_type": "execute_result"
    },
    {
     "data": {
      "image/png": "[encoded data removed]",
      "text/plain": [
       "<Figure size 2500x1500 with 1 Axes>"
      ]
     },
     "metadata": {},
     "output_type": "display_data"
    }
   ],
   "source": [
    "fig, ax = plt.subplots(1, 1, figsize = (25, 15))\n",
    "sns.histplot(x = \"SBERT\", data = df_happiness, ax = ax)"
   ]
  },
  {
   "cell_type": "code",
   "execution_count": 110,
   "id": "af8b79d6",
   "metadata": {},
   "outputs": [
    {
     "data": {
      "text/plain": [
       "count    1274.000000\n",
       "mean        0.382633\n",
       "std         0.141671\n",
       "min        -0.032974\n",
       "25%         0.286113\n",
       "50%         0.381796\n",
       "75%         0.478922\n",
       "max         0.826406\n",
       "Name: SBERT, dtype: float64"
      ]
     },
     "execution_count": 110,
     "metadata": {},
     "output_type": "execute_result"
    }
   ],
   "source": [
    "df_happiness['SBERT'].describe()"
   ]
  },
  {
   "cell_type": "code",
   "execution_count": 111,
   "id": "894f759c",
   "metadata": {},
   "outputs": [
    {
     "data": {
      "text/html": [
       "<div>\n",
       "<style scoped>\n",
       "    .dataframe tbody tr th:only-of-type {\n",
       "        vertical-align: middle;\n",
       "    }\n",
       "\n",
       "    .dataframe tbody tr th {\n",
       "        vertical-align: top;\n",
       "    }\n",
       "\n",
       "    .dataframe thead th {\n",
       "        text-align: right;\n",
       "    }\n",
       "</style>\n",
       "<table border=\"1\" class=\"dataframe\">\n",
       "  <thead>\n",
       "    <tr style=\"text-align: right;\">\n",
       "      <th></th>\n",
       "      <th>0</th>\n",
       "      <th>1</th>\n",
       "      <th>SBERT</th>\n",
       "    </tr>\n",
       "  </thead>\n",
       "  <tbody>\n",
       "    <tr>\n",
       "      <th>19</th>\n",
       "      <td>벼랑 끝에서 누가 끌어 올려 준 것 같은 기분이 들어. 잘 돼서 꼭 보답하고 싶어....</td>\n",
       "      <td>앞으로 자기한테 얼마나 좋은 소식만 가득할지 기대된다. 긍정적인 자기가 이 순간을 ...</td>\n",
       "      <td>0.491955</td>\n",
       "    </tr>\n",
       "    <tr>\n",
       "      <th>772</th>\n",
       "      <td>응워해 줘서 정말 고마워. 게다가 오늘 근무중이라 정신없을 텐데 얘기 들어줘서 고마...</td>\n",
       "      <td>자기의 동생 사랑은 정말 알아줘야 해. 동생이 얼른 더 성장해서 언니와 끝내주는 합...</td>\n",
       "      <td>0.180452</td>\n",
       "    </tr>\n",
       "    <tr>\n",
       "      <th>83</th>\n",
       "      <td>자기야, 요즘 몸컨디션이 저하된 것 같아서 휴가를 낸 김에 병원 순례하고 있어. 이...</td>\n",
       "      <td>날 걱정해 주는 건 역시 자기뿐이네, 고마워. 자기가 보호자로 동반해 주면 나는 너...</td>\n",
       "      <td>0.521475</td>\n",
       "    </tr>\n",
       "    <tr>\n",
       "      <th>446</th>\n",
       "      <td>응응, 그렇게 말 해 주니 나도 기분이 훨씬 좋아. 내가 늦게 시작한 진로라서 남들...</td>\n",
       "      <td>앞으로도 언제든 혼자서 감당하기 어려운 고민이 생기면 나한테 이야기해 줘. 어떤 이...</td>\n",
       "      <td>0.527846</td>\n",
       "    </tr>\n",
       "    <tr>\n",
       "      <th>490</th>\n",
       "      <td>맞아, 오늘 버스 기사님도 얼마나 능숙하시던지 회사까지 가는 내내 마음이 편안하더라...</td>\n",
       "      <td>우리 자기, 요즘 기분이 많이 좋아보이네. 오늘 좋은 일이라도 있었던 거야?</td>\n",
       "      <td>0.460174</td>\n",
       "    </tr>\n",
       "  </tbody>\n",
       "</table>\n",
       "</div>"
      ],
      "text/plain": [
       "                                                     0  \\\n",
       "19   벼랑 끝에서 누가 끌어 올려 준 것 같은 기분이 들어. 잘 돼서 꼭 보답하고 싶어....   \n",
       "772  응워해 줘서 정말 고마워. 게다가 오늘 근무중이라 정신없을 텐데 얘기 들어줘서 고마...   \n",
       "83   자기야, 요즘 몸컨디션이 저하된 것 같아서 휴가를 낸 김에 병원 순례하고 있어. 이...   \n",
       "446  응응, 그렇게 말 해 주니 나도 기분이 훨씬 좋아. 내가 늦게 시작한 진로라서 남들...   \n",
       "490  맞아, 오늘 버스 기사님도 얼마나 능숙하시던지 회사까지 가는 내내 마음이 편안하더라...   \n",
       "\n",
       "                                                     1     SBERT  \n",
       "19   앞으로 자기한테 얼마나 좋은 소식만 가득할지 기대된다. 긍정적인 자기가 이 순간을 ...  0.491955  \n",
       "772  자기의 동생 사랑은 정말 알아줘야 해. 동생이 얼른 더 성장해서 언니와 끝내주는 합...  0.180452  \n",
       "83   날 걱정해 주는 건 역시 자기뿐이네, 고마워. 자기가 보호자로 동반해 주면 나는 너...  0.521475  \n",
       "446  앞으로도 언제든 혼자서 감당하기 어려운 고민이 생기면 나한테 이야기해 줘. 어떤 이...  0.527846  \n",
       "490         우리 자기, 요즘 기분이 많이 좋아보이네. 오늘 좋은 일이라도 있었던 거야?  0.460174  "
      ]
     },
     "execution_count": 111,
     "metadata": {},
     "output_type": "execute_result"
    }
   ],
   "source": [
    "df_happiness.sample(5)"
   ]
  },
  {
   "cell_type": "code",
   "execution_count": 131,
   "id": "24715c3a",
   "metadata": {},
   "outputs": [
    {
     "ename": "IndexError",
     "evalue": "index 1274 is out of bounds for axis 0 with size 1274",
     "output_type": "error",
     "traceback": [
      "\u001b[1;31m---------------------------------------------------------------------------\u001b[0m",
      "\u001b[1;31mIndexError\u001b[0m                                Traceback (most recent call last)",
      "Cell \u001b[1;32mIn[131], line 1\u001b[0m\n\u001b[1;32m----> 1\u001b[0m \u001b[43mdf_happiness\u001b[49m\u001b[38;5;241;43m.\u001b[39;49m\u001b[43miloc\u001b[49m\u001b[43m[\u001b[49m\u001b[38;5;241;43m1274\u001b[39;49m\u001b[43m,\u001b[49m\u001b[43m \u001b[49m\u001b[38;5;241;43m0\u001b[39;49m\u001b[43m]\u001b[49m\n",
      "File \u001b[1;32m~\\anaconda3\\lib\\site-packages\\pandas\\core\\indexing.py:1066\u001b[0m, in \u001b[0;36m_LocationIndexer.__getitem__\u001b[1;34m(self, key)\u001b[0m\n\u001b[0;32m   1064\u001b[0m     key \u001b[38;5;241m=\u001b[39m \u001b[38;5;28mtuple\u001b[39m(com\u001b[38;5;241m.\u001b[39mapply_if_callable(x, \u001b[38;5;28mself\u001b[39m\u001b[38;5;241m.\u001b[39mobj) \u001b[38;5;28;01mfor\u001b[39;00m x \u001b[38;5;129;01min\u001b[39;00m key)\n\u001b[0;32m   1065\u001b[0m     \u001b[38;5;28;01mif\u001b[39;00m \u001b[38;5;28mself\u001b[39m\u001b[38;5;241m.\u001b[39m_is_scalar_access(key):\n\u001b[1;32m-> 1066\u001b[0m         \u001b[38;5;28;01mreturn\u001b[39;00m \u001b[38;5;28;43mself\u001b[39;49m\u001b[38;5;241;43m.\u001b[39;49m\u001b[43mobj\u001b[49m\u001b[38;5;241;43m.\u001b[39;49m\u001b[43m_get_value\u001b[49m\u001b[43m(\u001b[49m\u001b[38;5;241;43m*\u001b[39;49m\u001b[43mkey\u001b[49m\u001b[43m,\u001b[49m\u001b[43m \u001b[49m\u001b[43mtakeable\u001b[49m\u001b[38;5;241;43m=\u001b[39;49m\u001b[38;5;28;43mself\u001b[39;49m\u001b[38;5;241;43m.\u001b[39;49m\u001b[43m_takeable\u001b[49m\u001b[43m)\u001b[49m\n\u001b[0;32m   1067\u001b[0m     \u001b[38;5;28;01mreturn\u001b[39;00m \u001b[38;5;28mself\u001b[39m\u001b[38;5;241m.\u001b[39m_getitem_tuple(key)\n\u001b[0;32m   1068\u001b[0m \u001b[38;5;28;01melse\u001b[39;00m:\n\u001b[0;32m   1069\u001b[0m     \u001b[38;5;66;03m# we by definition only have the 0th axis\u001b[39;00m\n",
      "File \u001b[1;32m~\\anaconda3\\lib\\site-packages\\pandas\\core\\frame.py:3915\u001b[0m, in \u001b[0;36mDataFrame._get_value\u001b[1;34m(self, index, col, takeable)\u001b[0m\n\u001b[0;32m   3913\u001b[0m \u001b[38;5;28;01mif\u001b[39;00m takeable:\n\u001b[0;32m   3914\u001b[0m     series \u001b[38;5;241m=\u001b[39m \u001b[38;5;28mself\u001b[39m\u001b[38;5;241m.\u001b[39m_ixs(col, axis\u001b[38;5;241m=\u001b[39m\u001b[38;5;241m1\u001b[39m)\n\u001b[1;32m-> 3915\u001b[0m     \u001b[38;5;28;01mreturn\u001b[39;00m \u001b[43mseries\u001b[49m\u001b[38;5;241;43m.\u001b[39;49m\u001b[43m_values\u001b[49m\u001b[43m[\u001b[49m\u001b[43mindex\u001b[49m\u001b[43m]\u001b[49m\n\u001b[0;32m   3917\u001b[0m series \u001b[38;5;241m=\u001b[39m \u001b[38;5;28mself\u001b[39m\u001b[38;5;241m.\u001b[39m_get_item_cache(col)\n\u001b[0;32m   3918\u001b[0m engine \u001b[38;5;241m=\u001b[39m \u001b[38;5;28mself\u001b[39m\u001b[38;5;241m.\u001b[39mindex\u001b[38;5;241m.\u001b[39m_engine\n",
      "\u001b[1;31mIndexError\u001b[0m: index 1274 is out of bounds for axis 0 with size 1274"
     ]
    }
   ],
   "source": [
    "df_happiness.iloc[1274, 0]"
   ]
  },
  {
   "cell_type": "code",
   "execution_count": null,
   "id": "8edd3b7a",
   "metadata": {},
   "outputs": [],
   "source": [
    "df_happiness.iloc[1274, 1]"
   ]
  },
  {
   "cell_type": "code",
   "execution_count": 130,
   "id": "ec635991",
   "metadata": {},
   "outputs": [
    {
     "data": {
      "text/plain": [
       "0.43249332904815674"
      ]
     },
     "execution_count": 130,
     "metadata": {},
     "output_type": "execute_result"
    }
   ],
   "source": [
    "df_happiness.iloc[1274, 2]"
   ]
  },
  {
   "cell_type": "code",
   "execution_count": null,
   "id": "34862651",
   "metadata": {},
   "outputs": [],
   "source": []
  }
 ],
 "metadata": {
  "kernelspec": {
   "display_name": "Python 3 (ipykernel)",
   "language": "python",
   "name": "python3"
  },
  "language_info": {
   "codemirror_mode": {
    "name": "ipython",
    "version": 3
   },
   "file_extension": ".py",
   "mimetype": "text/x-python",
   "name": "python",
   "nbconvert_exporter": "python",
   "pygments_lexer": "ipython3",
   "version": "3.10.9"
  }
 },
 "nbformat": 4,
 "nbformat_minor": 5
}
